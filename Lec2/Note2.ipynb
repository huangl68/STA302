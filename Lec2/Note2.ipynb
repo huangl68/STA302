{
 "cells": [
  {
   "cell_type": "code",
   "execution_count": 1,
   "metadata": {},
   "outputs": [
    {
     "data": {
      "text/plain": [
       "\n",
       "\tWelch Two Sample t-test\n",
       "\n",
       "data:  Response by Groups\n",
       "t = 1.8935, df = 3.5278, p-value = 0.07035\n",
       "alternative hypothesis: true difference in means is greater than 0\n",
       "95 percent confidence interval:\n",
       " -1.194187       Inf\n",
       "sample estimates:\n",
       "mean in group 0 mean in group 1 \n",
       "             54              47 \n"
      ]
     },
     "metadata": {},
     "output_type": "display_data"
    }
   ],
   "source": [
    "A <- c(48,56,58)\n",
    "B <- c(44,46,51)\n",
    "Response <- c(A,B)\n",
    "Groups <- c(0,0,0,1,1,1)\n",
    "#?t.test\n",
    "t.test(Response~Groups,alternative=\"greater\",var.equal=FALSE)"
   ]
  },
  {
   "cell_type": "code",
   "execution_count": 2,
   "metadata": {},
   "outputs": [
    {
     "data": {
      "text/html": [
       "<table>\n",
       "<caption>A data.frame: 6 × 7</caption>\n",
       "<thead>\n",
       "\t<tr><th scope=col>Case</th><th scope=col>Restaurant</th><th scope=col>Price</th><th scope=col>Food</th><th scope=col>Decor</th><th scope=col>Service</th><th scope=col>East</th></tr>\n",
       "\t<tr><th scope=col>&lt;int&gt;</th><th scope=col>&lt;fct&gt;</th><th scope=col>&lt;int&gt;</th><th scope=col>&lt;int&gt;</th><th scope=col>&lt;int&gt;</th><th scope=col>&lt;int&gt;</th><th scope=col>&lt;int&gt;</th></tr>\n",
       "</thead>\n",
       "<tbody>\n",
       "\t<tr><td>1</td><td>Daniella Ristorante</td><td>43</td><td>22</td><td>18</td><td>20</td><td>0</td></tr>\n",
       "\t<tr><td>2</td><td>Tello's Ristorante </td><td>32</td><td>20</td><td>19</td><td>19</td><td>0</td></tr>\n",
       "\t<tr><td>3</td><td>Biricchino         </td><td>34</td><td>21</td><td>13</td><td>18</td><td>0</td></tr>\n",
       "\t<tr><td>4</td><td>Bottino            </td><td>41</td><td>20</td><td>20</td><td>17</td><td>0</td></tr>\n",
       "\t<tr><td>5</td><td>Da Umberto         </td><td>54</td><td>24</td><td>19</td><td>21</td><td>0</td></tr>\n",
       "\t<tr><td>6</td><td>Le Madri           </td><td>52</td><td>22</td><td>22</td><td>21</td><td>0</td></tr>\n",
       "</tbody>\n",
       "</table>\n"
      ],
      "text/latex": [
       "A data.frame: 6 × 7\n",
       "\\begin{tabular}{r|lllllll}\n",
       " Case & Restaurant & Price & Food & Decor & Service & East\\\\\n",
       " <int> & <fct> & <int> & <int> & <int> & <int> & <int>\\\\\n",
       "\\hline\n",
       "\t 1 & Daniella Ristorante & 43 & 22 & 18 & 20 & 0\\\\\n",
       "\t 2 & Tello's Ristorante  & 32 & 20 & 19 & 19 & 0\\\\\n",
       "\t 3 & Biricchino          & 34 & 21 & 13 & 18 & 0\\\\\n",
       "\t 4 & Bottino             & 41 & 20 & 20 & 17 & 0\\\\\n",
       "\t 5 & Da Umberto          & 54 & 24 & 19 & 21 & 0\\\\\n",
       "\t 6 & Le Madri            & 52 & 22 & 22 & 21 & 0\\\\\n",
       "\\end{tabular}\n"
      ],
      "text/markdown": [
       "\n",
       "A data.frame: 6 × 7\n",
       "\n",
       "| Case &lt;int&gt; | Restaurant &lt;fct&gt; | Price &lt;int&gt; | Food &lt;int&gt; | Decor &lt;int&gt; | Service &lt;int&gt; | East &lt;int&gt; |\n",
       "|---|---|---|---|---|---|---|\n",
       "| 1 | Daniella Ristorante | 43 | 22 | 18 | 20 | 0 |\n",
       "| 2 | Tello's Ristorante  | 32 | 20 | 19 | 19 | 0 |\n",
       "| 3 | Biricchino          | 34 | 21 | 13 | 18 | 0 |\n",
       "| 4 | Bottino             | 41 | 20 | 20 | 17 | 0 |\n",
       "| 5 | Da Umberto          | 54 | 24 | 19 | 21 | 0 |\n",
       "| 6 | Le Madri            | 52 | 22 | 22 | 21 | 0 |\n",
       "\n"
      ],
      "text/plain": [
       "  Case Restaurant          Price Food Decor Service East\n",
       "1 1    Daniella Ristorante 43    22   18    20      0   \n",
       "2 2    Tello's Ristorante  32    20   19    19      0   \n",
       "3 3    Biricchino          34    21   13    18      0   \n",
       "4 4    Bottino             41    20   20    17      0   \n",
       "5 5    Da Umberto          54    24   19    21      0   \n",
       "6 6    Le Madri            52    22   22    21      0   "
      ]
     },
     "metadata": {},
     "output_type": "display_data"
    }
   ],
   "source": [
    "NYC <- read.csv(\"nyc.csv\",header=TRUE,sep=',')\n",
    "head(NYC)"
   ]
  },
  {
   "cell_type": "code",
   "execution_count": 3,
   "metadata": {},
   "outputs": [
    {
     "data": {
      "text/html": [
       "<table>\n",
       "<caption>A data.frame: 6 × 7</caption>\n",
       "<thead>\n",
       "\t<tr><th scope=col>Case</th><th scope=col>Restaurant</th><th scope=col>Price</th><th scope=col>Food</th><th scope=col>Decor</th><th scope=col>Service</th><th scope=col>East</th></tr>\n",
       "\t<tr><th scope=col>&lt;int&gt;</th><th scope=col>&lt;fct&gt;</th><th scope=col>&lt;int&gt;</th><th scope=col>&lt;int&gt;</th><th scope=col>&lt;int&gt;</th><th scope=col>&lt;int&gt;</th><th scope=col>&lt;int&gt;</th></tr>\n",
       "</thead>\n",
       "<tbody>\n",
       "\t<tr><td>1</td><td>Daniella Ristorante</td><td>43</td><td>22</td><td>18</td><td>20</td><td>0</td></tr>\n",
       "\t<tr><td>2</td><td>Tello's Ristorante </td><td>32</td><td>20</td><td>19</td><td>19</td><td>0</td></tr>\n",
       "\t<tr><td>3</td><td>Biricchino         </td><td>34</td><td>21</td><td>13</td><td>18</td><td>0</td></tr>\n",
       "\t<tr><td>4</td><td>Bottino            </td><td>41</td><td>20</td><td>20</td><td>17</td><td>0</td></tr>\n",
       "\t<tr><td>5</td><td>Da Umberto         </td><td>54</td><td>24</td><td>19</td><td>21</td><td>0</td></tr>\n",
       "\t<tr><td>6</td><td>Le Madri           </td><td>52</td><td>22</td><td>22</td><td>21</td><td>0</td></tr>\n",
       "</tbody>\n",
       "</table>\n"
      ],
      "text/latex": [
       "A data.frame: 6 × 7\n",
       "\\begin{tabular}{r|lllllll}\n",
       " Case & Restaurant & Price & Food & Decor & Service & East\\\\\n",
       " <int> & <fct> & <int> & <int> & <int> & <int> & <int>\\\\\n",
       "\\hline\n",
       "\t 1 & Daniella Ristorante & 43 & 22 & 18 & 20 & 0\\\\\n",
       "\t 2 & Tello's Ristorante  & 32 & 20 & 19 & 19 & 0\\\\\n",
       "\t 3 & Biricchino          & 34 & 21 & 13 & 18 & 0\\\\\n",
       "\t 4 & Bottino             & 41 & 20 & 20 & 17 & 0\\\\\n",
       "\t 5 & Da Umberto          & 54 & 24 & 19 & 21 & 0\\\\\n",
       "\t 6 & Le Madri            & 52 & 22 & 22 & 21 & 0\\\\\n",
       "\\end{tabular}\n"
      ],
      "text/markdown": [
       "\n",
       "A data.frame: 6 × 7\n",
       "\n",
       "| Case &lt;int&gt; | Restaurant &lt;fct&gt; | Price &lt;int&gt; | Food &lt;int&gt; | Decor &lt;int&gt; | Service &lt;int&gt; | East &lt;int&gt; |\n",
       "|---|---|---|---|---|---|---|\n",
       "| 1 | Daniella Ristorante | 43 | 22 | 18 | 20 | 0 |\n",
       "| 2 | Tello's Ristorante  | 32 | 20 | 19 | 19 | 0 |\n",
       "| 3 | Biricchino          | 34 | 21 | 13 | 18 | 0 |\n",
       "| 4 | Bottino             | 41 | 20 | 20 | 17 | 0 |\n",
       "| 5 | Da Umberto          | 54 | 24 | 19 | 21 | 0 |\n",
       "| 6 | Le Madri            | 52 | 22 | 22 | 21 | 0 |\n",
       "\n"
      ],
      "text/plain": [
       "  Case Restaurant          Price Food Decor Service East\n",
       "1 1    Daniella Ristorante 43    22   18    20      0   \n",
       "2 2    Tello's Ristorante  32    20   19    19      0   \n",
       "3 3    Biricchino          34    21   13    18      0   \n",
       "4 4    Bottino             41    20   20    17      0   \n",
       "5 5    Da Umberto          54    24   19    21      0   \n",
       "6 6    Le Madri            52    22   22    21      0   "
      ]
     },
     "metadata": {},
     "output_type": "display_data"
    }
   ],
   "source": [
    "NYC <- read.csv(\"nyc.csv\") #Look at the default option ?read.table\n",
    "head(NYC)"
   ]
  },
  {
   "cell_type": "code",
   "execution_count": 4,
   "metadata": {},
   "outputs": [
    {
     "data": {
      "text/html": [
       "<table>\n",
       "<caption>A data.frame: 6 × 7</caption>\n",
       "<thead>\n",
       "\t<tr><th scope=col>Case</th><th scope=col>Restaurant</th><th scope=col>Price</th><th scope=col>Food</th><th scope=col>Decor</th><th scope=col>Service</th><th scope=col>East</th></tr>\n",
       "\t<tr><th scope=col>&lt;int&gt;</th><th scope=col>&lt;fct&gt;</th><th scope=col>&lt;int&gt;</th><th scope=col>&lt;int&gt;</th><th scope=col>&lt;int&gt;</th><th scope=col>&lt;int&gt;</th><th scope=col>&lt;int&gt;</th></tr>\n",
       "</thead>\n",
       "<tbody>\n",
       "\t<tr><td> 6</td><td>Le Madri    </td><td>52</td><td>22</td><td>22</td><td>21</td><td>0</td></tr>\n",
       "\t<tr><td> 7</td><td>Le Zie      </td><td>34</td><td>22</td><td>16</td><td>21</td><td>0</td></tr>\n",
       "\t<tr><td> 8</td><td>Pasticcio   </td><td>34</td><td>20</td><td>18</td><td>21</td><td>1</td></tr>\n",
       "\t<tr><td> 9</td><td>Belluno     </td><td>39</td><td>22</td><td>19</td><td>22</td><td>1</td></tr>\n",
       "\t<tr><td>10</td><td>Cinque Terre</td><td>44</td><td>21</td><td>17</td><td>19</td><td>1</td></tr>\n",
       "\t<tr><td>11</td><td>Fino        </td><td>45</td><td>19</td><td>17</td><td>20</td><td>1</td></tr>\n",
       "</tbody>\n",
       "</table>\n"
      ],
      "text/latex": [
       "A data.frame: 6 × 7\n",
       "\\begin{tabular}{r|lllllll}\n",
       " Case & Restaurant & Price & Food & Decor & Service & East\\\\\n",
       " <int> & <fct> & <int> & <int> & <int> & <int> & <int>\\\\\n",
       "\\hline\n",
       "\t  6 & Le Madri     & 52 & 22 & 22 & 21 & 0\\\\\n",
       "\t  7 & Le Zie       & 34 & 22 & 16 & 21 & 0\\\\\n",
       "\t  8 & Pasticcio    & 34 & 20 & 18 & 21 & 1\\\\\n",
       "\t  9 & Belluno      & 39 & 22 & 19 & 22 & 1\\\\\n",
       "\t 10 & Cinque Terre & 44 & 21 & 17 & 19 & 1\\\\\n",
       "\t 11 & Fino         & 45 & 19 & 17 & 20 & 1\\\\\n",
       "\\end{tabular}\n"
      ],
      "text/markdown": [
       "\n",
       "A data.frame: 6 × 7\n",
       "\n",
       "| Case &lt;int&gt; | Restaurant &lt;fct&gt; | Price &lt;int&gt; | Food &lt;int&gt; | Decor &lt;int&gt; | Service &lt;int&gt; | East &lt;int&gt; |\n",
       "|---|---|---|---|---|---|---|\n",
       "|  6 | Le Madri     | 52 | 22 | 22 | 21 | 0 |\n",
       "|  7 | Le Zie       | 34 | 22 | 16 | 21 | 0 |\n",
       "|  8 | Pasticcio    | 34 | 20 | 18 | 21 | 1 |\n",
       "|  9 | Belluno      | 39 | 22 | 19 | 22 | 1 |\n",
       "| 10 | Cinque Terre | 44 | 21 | 17 | 19 | 1 |\n",
       "| 11 | Fino         | 45 | 19 | 17 | 20 | 1 |\n",
       "\n"
      ],
      "text/plain": [
       "  Case Restaurant   Price Food Decor Service East\n",
       "1  6   Le Madri     52    22   22    21      0   \n",
       "2  7   Le Zie       34    22   16    21      0   \n",
       "3  8   Pasticcio    34    20   18    21      1   \n",
       "4  9   Belluno      39    22   19    22      1   \n",
       "5 10   Cinque Terre 44    21   17    19      1   \n",
       "6 11   Fino         45    19   17    20      1   "
      ]
     },
     "metadata": {},
     "output_type": "display_data"
    }
   ],
   "source": [
    "NYC <- read.table(\"nyc.csv\", ,header=TRUE, sep=',') #I've heard read.table is faster!\n",
    "head(NYC)"
   ]
  },
  {
   "cell_type": "code",
   "execution_count": 5,
   "metadata": {},
   "outputs": [
    {
     "data": {
      "text/html": [
       "<table>\n",
       "<caption>A data.frame: 6 × 6</caption>\n",
       "<thead>\n",
       "\t<tr><th scope=col>RA</th><th scope=col>VTINV</th><th scope=col>DIPINV</th><th scope=col>HEAT</th><th scope=col>KPOINT</th><th scope=col>GROUP</th></tr>\n",
       "\t<tr><th scope=col>&lt;dbl&gt;</th><th scope=col>&lt;dbl&gt;</th><th scope=col>&lt;dbl&gt;</th><th scope=col>&lt;dbl&gt;</th><th scope=col>&lt;dbl&gt;</th><th scope=col>&lt;int&gt;</th></tr>\n",
       "</thead>\n",
       "<tbody>\n",
       "\t<tr><td>6.3796</td><td>0.0051</td><td>0.0382</td><td>-296.10</td><td> 7.0</td><td>1</td></tr>\n",
       "\t<tr><td>6.8896</td><td>0.0047</td><td>0.0346</td><td>-302.96</td><td>16.0</td><td>1</td></tr>\n",
       "\t<tr><td>7.7734</td><td>0.0041</td><td>0.0358</td><td>-314.31</td><td>11.0</td><td>1</td></tr>\n",
       "\t<tr><td>7.8796</td><td>0.0044</td><td>0.0316</td><td>-309.81</td><td>20.8</td><td>1</td></tr>\n",
       "\t<tr><td>7.8796</td><td>0.0041</td><td>0.0290</td><td>-316.66</td><td>21.0</td><td>1</td></tr>\n",
       "\t<tr><td>8.3796</td><td>0.0038</td><td>0.0268</td><td>-335.52</td><td>31.5</td><td>1</td></tr>\n",
       "</tbody>\n",
       "</table>\n"
      ],
      "text/latex": [
       "A data.frame: 6 × 6\n",
       "\\begin{tabular}{r|llllll}\n",
       " RA & VTINV & DIPINV & HEAT & KPOINT & GROUP\\\\\n",
       " <dbl> & <dbl> & <dbl> & <dbl> & <dbl> & <int>\\\\\n",
       "\\hline\n",
       "\t 6.3796 & 0.0051 & 0.0382 & -296.10 &  7.0 & 1\\\\\n",
       "\t 6.8896 & 0.0047 & 0.0346 & -302.96 & 16.0 & 1\\\\\n",
       "\t 7.7734 & 0.0041 & 0.0358 & -314.31 & 11.0 & 1\\\\\n",
       "\t 7.8796 & 0.0044 & 0.0316 & -309.81 & 20.8 & 1\\\\\n",
       "\t 7.8796 & 0.0041 & 0.0290 & -316.66 & 21.0 & 1\\\\\n",
       "\t 8.3796 & 0.0038 & 0.0268 & -335.52 & 31.5 & 1\\\\\n",
       "\\end{tabular}\n"
      ],
      "text/markdown": [
       "\n",
       "A data.frame: 6 × 6\n",
       "\n",
       "| RA &lt;dbl&gt; | VTINV &lt;dbl&gt; | DIPINV &lt;dbl&gt; | HEAT &lt;dbl&gt; | KPOINT &lt;dbl&gt; | GROUP &lt;int&gt; |\n",
       "|---|---|---|---|---|---|\n",
       "| 6.3796 | 0.0051 | 0.0382 | -296.10 |  7.0 | 1 |\n",
       "| 6.8896 | 0.0047 | 0.0346 | -302.96 | 16.0 | 1 |\n",
       "| 7.7734 | 0.0041 | 0.0358 | -314.31 | 11.0 | 1 |\n",
       "| 7.8796 | 0.0044 | 0.0316 | -309.81 | 20.8 | 1 |\n",
       "| 7.8796 | 0.0041 | 0.0290 | -316.66 | 21.0 | 1 |\n",
       "| 8.3796 | 0.0038 | 0.0268 | -335.52 | 31.5 | 1 |\n",
       "\n"
      ],
      "text/plain": [
       "  RA     VTINV  DIPINV HEAT    KPOINT GROUP\n",
       "1 6.3796 0.0051 0.0382 -296.10  7.0   1    \n",
       "2 6.8896 0.0047 0.0346 -302.96 16.0   1    \n",
       "3 7.7734 0.0041 0.0358 -314.31 11.0   1    \n",
       "4 7.8796 0.0044 0.0316 -309.81 20.8   1    \n",
       "5 7.8796 0.0041 0.0290 -316.66 21.0   1    \n",
       "6 8.3796 0.0038 0.0268 -335.52 31.5   1    "
      ]
     },
     "metadata": {},
     "output_type": "display_data"
    }
   ],
   "source": [
    "Krafft <- read.table(\"krafft.txt\", header=TRUE) #Let's download a txt file\n",
    "head(Krafft) #Heuuuuu we've got a problem!"
   ]
  },
  {
   "cell_type": "code",
   "execution_count": 6,
   "metadata": {
    "scrolled": true
   },
   "outputs": [
    {
     "data": {
      "image/png": "[encoded data removed]",
      "text/plain": [
       "plot without title"
      ]
     },
     "metadata": {},
     "output_type": "display_data"
    }
   ],
   "source": [
    "boxplot(NYC$Price~NYC$East)"
   ]
  },
  {
   "cell_type": "code",
   "execution_count": 7,
   "metadata": {},
   "outputs": [
    {
     "data": {
      "text/plain": [
       "\n",
       "\tWelch Two Sample t-test\n",
       "\n",
       "data:  NYC$Price by NYC$East\n",
       "t = -0.70541, df = 89.26, p-value = 0.4824\n",
       "alternative hypothesis: true difference in means is not equal to 0\n",
       "95 percent confidence interval:\n",
       " -5.416343  2.578068\n",
       "sample estimates:\n",
       "mean in group 0 mean in group 1 \n",
       "       40.50943        41.92857 \n"
      ]
     },
     "metadata": {},
     "output_type": "display_data"
    }
   ],
   "source": [
    "# Welch–Satterthwaite equation\n",
    "t.test(NYC$Price~NYC$East,alternative=\"two.sided\",var.equal=FALSE)"
   ]
  },
  {
   "cell_type": "code",
   "execution_count": 8,
   "metadata": {},
   "outputs": [
    {
     "data": {
      "text/html": [
       "<table>\n",
       "<caption>A anova: 2 × 5</caption>\n",
       "<thead>\n",
       "\t<tr><th></th><th scope=col>Df</th><th scope=col>Sum Sq</th><th scope=col>Mean Sq</th><th scope=col>F value</th><th scope=col>Pr(&gt;F)</th></tr>\n",
       "\t<tr><th></th><th scope=col>&lt;int&gt;</th><th scope=col>&lt;dbl&gt;</th><th scope=col>&lt;dbl&gt;</th><th scope=col>&lt;dbl&gt;</th><th scope=col>&lt;dbl&gt;</th></tr>\n",
       "</thead>\n",
       "<tbody>\n",
       "\t<tr><th scope=row>East</th><td> 1</td><td>  47.19006</td><td>47.19006</td><td>0.4939959</td><td>0.4839059</td></tr>\n",
       "\t<tr><th scope=row>Residuals</th><td>93</td><td>8884.03100</td><td>95.52722</td><td>       NA</td><td>       NA</td></tr>\n",
       "</tbody>\n",
       "</table>\n"
      ],
      "text/latex": [
       "A anova: 2 × 5\n",
       "\\begin{tabular}{r|lllll}\n",
       "  & Df & Sum Sq & Mean Sq & F value & Pr(>F)\\\\\n",
       "  & <int> & <dbl> & <dbl> & <dbl> & <dbl>\\\\\n",
       "\\hline\n",
       "\tEast &  1 &   47.19006 & 47.19006 & 0.4939959 & 0.4839059\\\\\n",
       "\tResiduals & 93 & 8884.03100 & 95.52722 &        NA &        NA\\\\\n",
       "\\end{tabular}\n"
      ],
      "text/markdown": [
       "\n",
       "A anova: 2 × 5\n",
       "\n",
       "| <!--/--> | Df &lt;int&gt; | Sum Sq &lt;dbl&gt; | Mean Sq &lt;dbl&gt; | F value &lt;dbl&gt; | Pr(&gt;F) &lt;dbl&gt; |\n",
       "|---|---|---|---|---|---|\n",
       "| East |  1 |   47.19006 | 47.19006 | 0.4939959 | 0.4839059 |\n",
       "| Residuals | 93 | 8884.03100 | 95.52722 |        NA |        NA |\n",
       "\n"
      ],
      "text/plain": [
       "          Df Sum Sq     Mean Sq  F value   Pr(>F)   \n",
       "East       1   47.19006 47.19006 0.4939959 0.4839059\n",
       "Residuals 93 8884.03100 95.52722        NA        NA"
      ]
     },
     "metadata": {},
     "output_type": "display_data"
    }
   ],
   "source": [
    "anova(lm(Price~East,data=NYC))"
   ]
  },
  {
   "cell_type": "code",
   "execution_count": 9,
   "metadata": {},
   "outputs": [
    {
     "data": {
      "text/plain": [
       "\n",
       "\tTwo Sample t-test\n",
       "\n",
       "data:  NYC$Price by NYC$East\n",
       "t = -0.70285, df = 93, p-value = 0.4839\n",
       "alternative hypothesis: true difference in means is not equal to 0\n",
       "95 percent confidence interval:\n",
       " -5.428716  2.590441\n",
       "sample estimates:\n",
       "mean in group 0 mean in group 1 \n",
       "       40.50943        41.92857 \n"
      ]
     },
     "metadata": {},
     "output_type": "display_data"
    }
   ],
   "source": [
    "t.test(NYC$Price~NYC$East,alternative=\"two.sided\",var.equal=TRUE)"
   ]
  },
  {
   "cell_type": "code",
   "execution_count": 10,
   "metadata": {},
   "outputs": [
    {
     "data": {
      "text/plain": [
       "\n",
       "\tWelch Two Sample t-test\n",
       "\n",
       "data:  NYC$Price by NYC$East\n",
       "t = -0.70541, df = 89.26, p-value = 0.4824\n",
       "alternative hypothesis: true difference in means is not equal to 0\n",
       "95 percent confidence interval:\n",
       " -5.416343  2.578068\n",
       "sample estimates:\n",
       "mean in group 0 mean in group 1 \n",
       "       40.50943        41.92857 \n"
      ]
     },
     "metadata": {},
     "output_type": "display_data"
    }
   ],
   "source": [
    "Form <- formula(NYC$Price~NYC$East)\n",
    "t.test(Form)"
   ]
  },
  {
   "cell_type": "code",
   "execution_count": 11,
   "metadata": {},
   "outputs": [
    {
     "data": {
      "text/html": [
       "<table>\n",
       "<caption>A data.frame: 6 × 6</caption>\n",
       "<thead>\n",
       "\t<tr><th scope=col>RA</th><th scope=col>VTINV</th><th scope=col>DIPINV</th><th scope=col>HEAT</th><th scope=col>KPOINT</th><th scope=col>GROUP</th></tr>\n",
       "\t<tr><th scope=col>&lt;dbl&gt;</th><th scope=col>&lt;dbl&gt;</th><th scope=col>&lt;dbl&gt;</th><th scope=col>&lt;dbl&gt;</th><th scope=col>&lt;dbl&gt;</th><th scope=col>&lt;int&gt;</th></tr>\n",
       "</thead>\n",
       "<tbody>\n",
       "\t<tr><td>6.3796</td><td>0.0051</td><td>0.0382</td><td>-296.10</td><td> 7.0</td><td>1</td></tr>\n",
       "\t<tr><td>6.8896</td><td>0.0047</td><td>0.0346</td><td>-302.96</td><td>16.0</td><td>1</td></tr>\n",
       "\t<tr><td>7.7734</td><td>0.0041</td><td>0.0358</td><td>-314.31</td><td>11.0</td><td>1</td></tr>\n",
       "\t<tr><td>7.8796</td><td>0.0044</td><td>0.0316</td><td>-309.81</td><td>20.8</td><td>1</td></tr>\n",
       "\t<tr><td>7.8796</td><td>0.0041</td><td>0.0290</td><td>-316.66</td><td>21.0</td><td>1</td></tr>\n",
       "\t<tr><td>8.3796</td><td>0.0038</td><td>0.0268</td><td>-335.52</td><td>31.5</td><td>1</td></tr>\n",
       "</tbody>\n",
       "</table>\n"
      ],
      "text/latex": [
       "A data.frame: 6 × 6\n",
       "\\begin{tabular}{r|llllll}\n",
       " RA & VTINV & DIPINV & HEAT & KPOINT & GROUP\\\\\n",
       " <dbl> & <dbl> & <dbl> & <dbl> & <dbl> & <int>\\\\\n",
       "\\hline\n",
       "\t 6.3796 & 0.0051 & 0.0382 & -296.10 &  7.0 & 1\\\\\n",
       "\t 6.8896 & 0.0047 & 0.0346 & -302.96 & 16.0 & 1\\\\\n",
       "\t 7.7734 & 0.0041 & 0.0358 & -314.31 & 11.0 & 1\\\\\n",
       "\t 7.8796 & 0.0044 & 0.0316 & -309.81 & 20.8 & 1\\\\\n",
       "\t 7.8796 & 0.0041 & 0.0290 & -316.66 & 21.0 & 1\\\\\n",
       "\t 8.3796 & 0.0038 & 0.0268 & -335.52 & 31.5 & 1\\\\\n",
       "\\end{tabular}\n"
      ],
      "text/markdown": [
       "\n",
       "A data.frame: 6 × 6\n",
       "\n",
       "| RA &lt;dbl&gt; | VTINV &lt;dbl&gt; | DIPINV &lt;dbl&gt; | HEAT &lt;dbl&gt; | KPOINT &lt;dbl&gt; | GROUP &lt;int&gt; |\n",
       "|---|---|---|---|---|---|\n",
       "| 6.3796 | 0.0051 | 0.0382 | -296.10 |  7.0 | 1 |\n",
       "| 6.8896 | 0.0047 | 0.0346 | -302.96 | 16.0 | 1 |\n",
       "| 7.7734 | 0.0041 | 0.0358 | -314.31 | 11.0 | 1 |\n",
       "| 7.8796 | 0.0044 | 0.0316 | -309.81 | 20.8 | 1 |\n",
       "| 7.8796 | 0.0041 | 0.0290 | -316.66 | 21.0 | 1 |\n",
       "| 8.3796 | 0.0038 | 0.0268 | -335.52 | 31.5 | 1 |\n",
       "\n"
      ],
      "text/plain": [
       "  RA     VTINV  DIPINV HEAT    KPOINT GROUP\n",
       "1 6.3796 0.0051 0.0382 -296.10  7.0   1    \n",
       "2 6.8896 0.0047 0.0346 -302.96 16.0   1    \n",
       "3 7.7734 0.0041 0.0358 -314.31 11.0   1    \n",
       "4 7.8796 0.0044 0.0316 -309.81 20.8   1    \n",
       "5 7.8796 0.0041 0.0290 -316.66 21.0   1    \n",
       "6 8.3796 0.0038 0.0268 -335.52 31.5   1    "
      ]
     },
     "metadata": {},
     "output_type": "display_data"
    },
    {
     "data": {
      "image/png": "[encoded data removed]",
      "text/plain": [
       "plot without title"
      ]
     },
     "metadata": {},
     "output_type": "display_data"
    }
   ],
   "source": [
    "head(Krafft)\n",
    "Form <- formula(Krafft$RA~Krafft$GROUP)\n",
    "boxplot(Form)"
   ]
  },
  {
   "cell_type": "markdown",
   "metadata": {},
   "source": [
    "$$SSG = \\sum_{t=1}^{T}n_t(\\bar{y_t} - \\bar{y})^2$$"
   ]
  },
  {
   "cell_type": "markdown",
   "metadata": {},
   "source": [
    "$$SSE = \\sum_{t=1}^{T}\\sum_{i=1}^{n_t}(y_{i,t} - \\bar{y_t})^2$$"
   ]
  },
  {
   "cell_type": "markdown",
   "metadata": {},
   "source": [
    "$$MSG = \\dfrac{SSG}{T-1}\\sim \\chi_{T-1}^2$$"
   ]
  },
  {
   "cell_type": "markdown",
   "metadata": {},
   "source": [
    "$$MSE = \\dfrac{SSE}{n-T}\\sim \\chi_{n-T}^2$$"
   ]
  },
  {
   "cell_type": "markdown",
   "metadata": {},
   "source": [
    "$$\\dfrac{MSG}{MSE}\\sim F_{T-1, N-T}$$"
   ]
  },
  {
   "cell_type": "code",
   "execution_count": 12,
   "metadata": {},
   "outputs": [
    {
     "data": {
      "text/html": [
       "<table>\n",
       "<caption>A anova: 2 × 5</caption>\n",
       "<thead>\n",
       "\t<tr><th></th><th scope=col>Df</th><th scope=col>Sum Sq</th><th scope=col>Mean Sq</th><th scope=col>F value</th><th scope=col>Pr(&gt;F)</th></tr>\n",
       "\t<tr><th></th><th scope=col>&lt;int&gt;</th><th scope=col>&lt;dbl&gt;</th><th scope=col>&lt;dbl&gt;</th><th scope=col>&lt;dbl&gt;</th><th scope=col>&lt;dbl&gt;</th></tr>\n",
       "</thead>\n",
       "<tbody>\n",
       "\t<tr><th scope=row>Krafft$GROUP</th><td> 1</td><td> 6.97117</td><td>6.971170</td><td>3.440804</td><td>0.07345641</td></tr>\n",
       "\t<tr><th scope=row>Residuals</th><td>30</td><td>60.78088</td><td>2.026029</td><td>      NA</td><td>        NA</td></tr>\n",
       "</tbody>\n",
       "</table>\n"
      ],
      "text/latex": [
       "A anova: 2 × 5\n",
       "\\begin{tabular}{r|lllll}\n",
       "  & Df & Sum Sq & Mean Sq & F value & Pr(>F)\\\\\n",
       "  & <int> & <dbl> & <dbl> & <dbl> & <dbl>\\\\\n",
       "\\hline\n",
       "\tKrafft\\$GROUP &  1 &  6.97117 & 6.971170 & 3.440804 & 0.07345641\\\\\n",
       "\tResiduals & 30 & 60.78088 & 2.026029 &       NA &         NA\\\\\n",
       "\\end{tabular}\n"
      ],
      "text/markdown": [
       "\n",
       "A anova: 2 × 5\n",
       "\n",
       "| <!--/--> | Df &lt;int&gt; | Sum Sq &lt;dbl&gt; | Mean Sq &lt;dbl&gt; | F value &lt;dbl&gt; | Pr(&gt;F) &lt;dbl&gt; |\n",
       "|---|---|---|---|---|---|\n",
       "| Krafft$GROUP |  1 |  6.97117 | 6.971170 | 3.440804 | 0.07345641 |\n",
       "| Residuals | 30 | 60.78088 | 2.026029 |       NA |         NA |\n",
       "\n"
      ],
      "text/plain": [
       "             Df Sum Sq   Mean Sq  F value  Pr(>F)    \n",
       "Krafft$GROUP  1  6.97117 6.971170 3.440804 0.07345641\n",
       "Residuals    30 60.78088 2.026029       NA         NA"
      ]
     },
     "metadata": {},
     "output_type": "display_data"
    }
   ],
   "source": [
    "anova(lm(Form)) # DF Don't make any sense!"
   ]
  },
  {
   "cell_type": "code",
   "execution_count": 13,
   "metadata": {},
   "outputs": [
    {
     "data": {
      "text/html": [
       "<table>\n",
       "<caption>A anova: 2 × 5</caption>\n",
       "<thead>\n",
       "\t<tr><th></th><th scope=col>Df</th><th scope=col>Sum Sq</th><th scope=col>Mean Sq</th><th scope=col>F value</th><th scope=col>Pr(&gt;F)</th></tr>\n",
       "\t<tr><th></th><th scope=col>&lt;int&gt;</th><th scope=col>&lt;dbl&gt;</th><th scope=col>&lt;dbl&gt;</th><th scope=col>&lt;dbl&gt;</th><th scope=col>&lt;dbl&gt;</th></tr>\n",
       "</thead>\n",
       "<tbody>\n",
       "\t<tr><th scope=row>as.factor(Krafft$GROUP)</th><td> 3</td><td>24.78903</td><td>8.263011</td><td>5.385197</td><td>0.004701422</td></tr>\n",
       "\t<tr><th scope=row>Residuals</th><td>28</td><td>42.96301</td><td>1.534393</td><td>      NA</td><td>         NA</td></tr>\n",
       "</tbody>\n",
       "</table>\n"
      ],
      "text/latex": [
       "A anova: 2 × 5\n",
       "\\begin{tabular}{r|lllll}\n",
       "  & Df & Sum Sq & Mean Sq & F value & Pr(>F)\\\\\n",
       "  & <int> & <dbl> & <dbl> & <dbl> & <dbl>\\\\\n",
       "\\hline\n",
       "\tas.factor(Krafft\\$GROUP) &  3 & 24.78903 & 8.263011 & 5.385197 & 0.004701422\\\\\n",
       "\tResiduals & 28 & 42.96301 & 1.534393 &       NA &          NA\\\\\n",
       "\\end{tabular}\n"
      ],
      "text/markdown": [
       "\n",
       "A anova: 2 × 5\n",
       "\n",
       "| <!--/--> | Df &lt;int&gt; | Sum Sq &lt;dbl&gt; | Mean Sq &lt;dbl&gt; | F value &lt;dbl&gt; | Pr(&gt;F) &lt;dbl&gt; |\n",
       "|---|---|---|---|---|---|\n",
       "| as.factor(Krafft$GROUP) |  3 | 24.78903 | 8.263011 | 5.385197 | 0.004701422 |\n",
       "| Residuals | 28 | 42.96301 | 1.534393 |       NA |          NA |\n",
       "\n"
      ],
      "text/plain": [
       "                        Df Sum Sq   Mean Sq  F value  Pr(>F)     \n",
       "as.factor(Krafft$GROUP)  3 24.78903 8.263011 5.385197 0.004701422\n",
       "Residuals               28 42.96301 1.534393       NA          NA"
      ]
     },
     "metadata": {},
     "output_type": "display_data"
    },
    {
     "data": {
      "image/png": "[encoded data removed]",
      "text/plain": [
       "plot without title"
      ]
     },
     "metadata": {},
     "output_type": "display_data"
    }
   ],
   "source": [
    "Form <- formula(Krafft$RA~as.factor(Krafft$GROUP))\n",
    "boxplot(Form)\n",
    "\n",
    "#t.test(Form)#This is why we introduced ANOVA!\n",
    "\n",
    "anova(lm(Form))"
   ]
  },
  {
   "cell_type": "code",
   "execution_count": null,
   "metadata": {},
   "outputs": [],
   "source": []
  }
 ],
 "metadata": {
  "kernelspec": {
   "display_name": "R",
   "language": "R",
   "name": "ir"
  },
  "language_info": {
   "codemirror_mode": "r",
   "file_extension": ".r",
   "mimetype": "text/x-r-source",
   "name": "R",
   "pygments_lexer": "r",
   "version": "3.4.4"
  }
 },
 "nbformat": 4,
 "nbformat_minor": 2
}
