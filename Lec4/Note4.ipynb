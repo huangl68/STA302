{
 "cells": [
  {
   "cell_type": "code",
   "execution_count": 8,
   "metadata": {},
   "outputs": [
    {
     "data": {
      "text/html": [
       "<table>\n",
       "<caption>A data.frame: 6 × 7</caption>\n",
       "<thead>\n",
       "\t<tr><th scope=col>Case</th><th scope=col>Restaurant</th><th scope=col>Price</th><th scope=col>Food</th><th scope=col>Decor</th><th scope=col>Service</th><th scope=col>East</th></tr>\n",
       "\t<tr><th scope=col>&lt;int&gt;</th><th scope=col>&lt;fct&gt;</th><th scope=col>&lt;int&gt;</th><th scope=col>&lt;int&gt;</th><th scope=col>&lt;int&gt;</th><th scope=col>&lt;int&gt;</th><th scope=col>&lt;int&gt;</th></tr>\n",
       "</thead>\n",
       "<tbody>\n",
       "\t<tr><td>1</td><td>Daniella Ristorante</td><td>43</td><td>22</td><td>18</td><td>20</td><td>0</td></tr>\n",
       "\t<tr><td>2</td><td>Tello's Ristorante </td><td>32</td><td>20</td><td>19</td><td>19</td><td>0</td></tr>\n",
       "\t<tr><td>3</td><td>Biricchino         </td><td>34</td><td>21</td><td>13</td><td>18</td><td>0</td></tr>\n",
       "\t<tr><td>4</td><td>Bottino            </td><td>41</td><td>20</td><td>20</td><td>17</td><td>0</td></tr>\n",
       "\t<tr><td>5</td><td>Da Umberto         </td><td>54</td><td>24</td><td>19</td><td>21</td><td>0</td></tr>\n",
       "\t<tr><td>6</td><td>Le Madri           </td><td>52</td><td>22</td><td>22</td><td>21</td><td>0</td></tr>\n",
       "</tbody>\n",
       "</table>\n"
      ],
      "text/latex": [
       "A data.frame: 6 × 7\n",
       "\\begin{tabular}{r|lllllll}\n",
       " Case & Restaurant & Price & Food & Decor & Service & East\\\\\n",
       " <int> & <fct> & <int> & <int> & <int> & <int> & <int>\\\\\n",
       "\\hline\n",
       "\t 1 & Daniella Ristorante & 43 & 22 & 18 & 20 & 0\\\\\n",
       "\t 2 & Tello's Ristorante  & 32 & 20 & 19 & 19 & 0\\\\\n",
       "\t 3 & Biricchino          & 34 & 21 & 13 & 18 & 0\\\\\n",
       "\t 4 & Bottino             & 41 & 20 & 20 & 17 & 0\\\\\n",
       "\t 5 & Da Umberto          & 54 & 24 & 19 & 21 & 0\\\\\n",
       "\t 6 & Le Madri            & 52 & 22 & 22 & 21 & 0\\\\\n",
       "\\end{tabular}\n"
      ],
      "text/markdown": [
       "\n",
       "A data.frame: 6 × 7\n",
       "\n",
       "| Case &lt;int&gt; | Restaurant &lt;fct&gt; | Price &lt;int&gt; | Food &lt;int&gt; | Decor &lt;int&gt; | Service &lt;int&gt; | East &lt;int&gt; |\n",
       "|---|---|---|---|---|---|---|\n",
       "| 1 | Daniella Ristorante | 43 | 22 | 18 | 20 | 0 |\n",
       "| 2 | Tello's Ristorante  | 32 | 20 | 19 | 19 | 0 |\n",
       "| 3 | Biricchino          | 34 | 21 | 13 | 18 | 0 |\n",
       "| 4 | Bottino             | 41 | 20 | 20 | 17 | 0 |\n",
       "| 5 | Da Umberto          | 54 | 24 | 19 | 21 | 0 |\n",
       "| 6 | Le Madri            | 52 | 22 | 22 | 21 | 0 |\n",
       "\n"
      ],
      "text/plain": [
       "  Case Restaurant          Price Food Decor Service East\n",
       "1 1    Daniella Ristorante 43    22   18    20      0   \n",
       "2 2    Tello's Ristorante  32    20   19    19      0   \n",
       "3 3    Biricchino          34    21   13    18      0   \n",
       "4 4    Bottino             41    20   20    17      0   \n",
       "5 5    Da Umberto          54    24   19    21      0   \n",
       "6 6    Le Madri            52    22   22    21      0   "
      ]
     },
     "metadata": {},
     "output_type": "display_data"
    }
   ],
   "source": [
    "NYC <- read.csv(\"nyc.csv\",header=TRUE,sep=',')\n",
    "head(NYC)"
   ]
  },
  {
   "cell_type": "code",
   "execution_count": null,
   "metadata": {},
   "outputs": [],
   "source": []
  },
  {
   "cell_type": "code",
   "execution_count": 9,
   "metadata": {},
   "outputs": [
    {
     "data": {
      "text/plain": [
       "      Case               Restaurant      Price           Food     \n",
       " Min.   :  1.00   Amarone     :  1   Min.   :19.0   Min.   :16.0  \n",
       " 1st Qu.: 42.75   Anche Vivolo:  1   1st Qu.:36.0   1st Qu.:19.0  \n",
       " Median : 84.50   Andiamo     :  1   Median :43.0   Median :20.5  \n",
       " Mean   : 84.50   Arno        :  1   Mean   :42.7   Mean   :20.6  \n",
       " 3rd Qu.:126.25   Artusi      :  1   3rd Qu.:50.0   3rd Qu.:22.0  \n",
       " Max.   :168.00   Baci        :  1   Max.   :65.0   Max.   :25.0  \n",
       "                  (Other)     :162                                \n",
       "     Decor          Service          East      \n",
       " Min.   : 6.00   Min.   :14.0   Min.   :0.000  \n",
       " 1st Qu.:16.00   1st Qu.:18.0   1st Qu.:0.000  \n",
       " Median :18.00   Median :20.0   Median :1.000  \n",
       " Mean   :17.69   Mean   :19.4   Mean   :0.631  \n",
       " 3rd Qu.:19.00   3rd Qu.:21.0   3rd Qu.:1.000  \n",
       " Max.   :25.00   Max.   :24.0   Max.   :1.000  \n",
       "                                               "
      ]
     },
     "metadata": {},
     "output_type": "display_data"
    }
   ],
   "source": [
    "summary(NYC)"
   ]
  },
  {
   "cell_type": "code",
   "execution_count": 10,
   "metadata": {},
   "outputs": [
    {
     "data": {
      "image/png": "[encoded data removed]",
      "text/plain": [
       "Plot with title “Histogram of NYC$Price”"
      ]
     },
     "metadata": {},
     "output_type": "display_data"
    }
   ],
   "source": [
    "hist(NYC$Price)"
   ]
  },
  {
   "cell_type": "code",
   "execution_count": 33,
   "metadata": {},
   "outputs": [
    {
     "data": {
      "text/plain": [
       "\n",
       "Call:\n",
       "lm(formula = Price ~ Food, data = NYC)\n",
       "\n",
       "Residuals:\n",
       "     Min       1Q   Median       3Q      Max \n",
       "-21.8860  -3.9470   0.2056   4.2513  26.9919 \n",
       "\n",
       "Coefficients:\n",
       "            Estimate Std. Error t value Pr(>|t|)    \n",
       "(Intercept) -17.8321     5.8631  -3.041  0.00274 ** \n",
       "Food          2.9390     0.2834  10.371  < 2e-16 ***\n",
       "---\n",
       "Signif. codes:  0 ‘***’ 0.001 ‘**’ 0.01 ‘*’ 0.05 ‘.’ 0.1 ‘ ’ 1\n",
       "\n",
       "Residual standard error: 7.261 on 166 degrees of freedom\n",
       "Multiple R-squared:  0.3932,\tAdjusted R-squared:  0.3895 \n",
       "F-statistic: 107.6 on 1 and 166 DF,  p-value: < 2.2e-16\n"
      ]
     },
     "metadata": {},
     "output_type": "display_data"
    }
   ],
   "source": [
    "model <- lm(Price~Food,data=NYC)\n",
    "summary(model)"
   ]
  },
  {
   "cell_type": "code",
   "execution_count": 34,
   "metadata": {},
   "outputs": [
    {
     "data": {
      "text/html": [
       "<table>\n",
       "<caption>A matrix: 2 × 4 of type dbl</caption>\n",
       "<thead>\n",
       "\t<tr><th></th><th scope=col>Estimate</th><th scope=col>Std. Error</th><th scope=col>t value</th><th scope=col>Pr(&gt;|t|)</th></tr>\n",
       "</thead>\n",
       "<tbody>\n",
       "\t<tr><th scope=row>(Intercept)</th><td>-17.83215</td><td>5.8631197</td><td>-3.04141</td><td>2.737456e-03</td></tr>\n",
       "\t<tr><th scope=row>Food</th><td>  2.93896</td><td>0.2833809</td><td>10.37106</td><td>9.633694e-20</td></tr>\n",
       "</tbody>\n",
       "</table>\n"
      ],
      "text/latex": [
       "A matrix: 2 × 4 of type dbl\n",
       "\\begin{tabular}{r|llll}\n",
       "  & Estimate & Std. Error & t value & Pr(>\\textbar{}t\\textbar{})\\\\\n",
       "\\hline\n",
       "\t(Intercept) & -17.83215 & 5.8631197 & -3.04141 & 2.737456e-03\\\\\n",
       "\tFood &   2.93896 & 0.2833809 & 10.37106 & 9.633694e-20\\\\\n",
       "\\end{tabular}\n"
      ],
      "text/markdown": [
       "\n",
       "A matrix: 2 × 4 of type dbl\n",
       "\n",
       "| <!--/--> | Estimate | Std. Error | t value | Pr(&gt;|t|) |\n",
       "|---|---|---|---|---|\n",
       "| (Intercept) | -17.83215 | 5.8631197 | -3.04141 | 2.737456e-03 |\n",
       "| Food |   2.93896 | 0.2833809 | 10.37106 | 9.633694e-20 |\n",
       "\n"
      ],
      "text/plain": [
       "            Estimate  Std. Error t value  Pr(>|t|)    \n",
       "(Intercept) -17.83215 5.8631197  -3.04141 2.737456e-03\n",
       "Food          2.93896 0.2833809  10.37106 9.633694e-20"
      ]
     },
     "metadata": {},
     "output_type": "display_data"
    }
   ],
   "source": [
    "sum <- summary(model)\n",
    "sum$coefficients"
   ]
  },
  {
   "cell_type": "code",
   "execution_count": 35,
   "metadata": {},
   "outputs": [
    {
     "data": {
      "text/html": [
       "10.3710567560437"
      ],
      "text/latex": [
       "10.3710567560437"
      ],
      "text/markdown": [
       "10.3710567560437"
      ],
      "text/plain": [
       "[1] 10.37106"
      ]
     },
     "metadata": {},
     "output_type": "display_data"
    },
    {
     "data": {
      "text/html": [
       "4.81684710257751e-20"
      ],
      "text/latex": [
       "4.81684710257751e-20"
      ],
      "text/markdown": [
       "4.81684710257751e-20"
      ],
      "text/plain": [
       "[1] 4.816847e-20"
      ]
     },
     "metadata": {},
     "output_type": "display_data"
    }
   ],
   "source": [
    "tvalue <- sum$coefficients[2,1]/sum$coefficients[2,2]\n",
    "n <- nrow(NYC)\n",
    "df <- n-2\n",
    "tvalue\n",
    "pt(tvalue,df,lower.tail=FALSE)"
   ]
  },
  {
   "cell_type": "code",
   "execution_count": 31,
   "metadata": {},
   "outputs": [],
   "source": [
    "?pt"
   ]
  },
  {
   "cell_type": "code",
   "execution_count": 14,
   "metadata": {},
   "outputs": [
    {
     "data": {
      "text/plain": [
       "\n",
       "Call:\n",
       "lm(formula = Food ~ Decor, data = NYC)\n",
       "\n",
       "Residuals:\n",
       "    Min      1Q  Median      3Q     Max \n",
       "-3.9703 -1.3400 -0.0248  1.2903  6.2476 \n",
       "\n",
       "Coefficients:\n",
       "            Estimate Std. Error t value Pr(>|t|)    \n",
       "(Intercept) 14.05574    0.88004  15.972  < 2e-16 ***\n",
       "Decor        0.36966    0.04918   7.517 3.33e-12 ***\n",
       "---\n",
       "Signif. codes:  0 ‘***’ 0.001 ‘**’ 0.01 ‘*’ 0.05 ‘.’ 0.1 ‘ ’ 1\n",
       "\n",
       "Residual standard error: 1.718 on 166 degrees of freedom\n",
       "Multiple R-squared:  0.2539,\tAdjusted R-squared:  0.2494 \n",
       "F-statistic:  56.5 on 1 and 166 DF,  p-value: 3.328e-12\n"
      ]
     },
     "metadata": {},
     "output_type": "display_data"
    },
    {
     "data": {
      "text/html": [
       "<table>\n",
       "<caption>A matrix: 2 × 4 of type dbl</caption>\n",
       "<thead>\n",
       "\t<tr><th></th><th scope=col>Estimate</th><th scope=col>Std. Error</th><th scope=col>t value</th><th scope=col>Pr(&gt;|t|)</th></tr>\n",
       "</thead>\n",
       "<tbody>\n",
       "\t<tr><th scope=row>(Intercept)</th><td>14.055742</td><td>0.88003958</td><td>15.971716</td><td>2.206827e-35</td></tr>\n",
       "\t<tr><th scope=row>Decor</th><td> 0.369662</td><td>0.04917924</td><td> 7.516625</td><td>3.328258e-12</td></tr>\n",
       "</tbody>\n",
       "</table>\n"
      ],
      "text/latex": [
       "A matrix: 2 × 4 of type dbl\n",
       "\\begin{tabular}{r|llll}\n",
       "  & Estimate & Std. Error & t value & Pr(>\\textbar{}t\\textbar{})\\\\\n",
       "\\hline\n",
       "\t(Intercept) & 14.055742 & 0.88003958 & 15.971716 & 2.206827e-35\\\\\n",
       "\tDecor &  0.369662 & 0.04917924 &  7.516625 & 3.328258e-12\\\\\n",
       "\\end{tabular}\n"
      ],
      "text/markdown": [
       "\n",
       "A matrix: 2 × 4 of type dbl\n",
       "\n",
       "| <!--/--> | Estimate | Std. Error | t value | Pr(&gt;|t|) |\n",
       "|---|---|---|---|---|\n",
       "| (Intercept) | 14.055742 | 0.88003958 | 15.971716 | 2.206827e-35 |\n",
       "| Decor |  0.369662 | 0.04917924 |  7.516625 | 3.328258e-12 |\n",
       "\n"
      ],
      "text/plain": [
       "            Estimate  Std. Error t value   Pr(>|t|)    \n",
       "(Intercept) 14.055742 0.88003958 15.971716 2.206827e-35\n",
       "Decor        0.369662 0.04917924  7.516625 3.328258e-12"
      ]
     },
     "metadata": {},
     "output_type": "display_data"
    }
   ],
   "source": [
    "model <- lm(Food~Decor,data=NYC)\n",
    "summary(model)\n",
    "sum <- summary(model)\n",
    "sum$coefficients"
   ]
  },
  {
   "cell_type": "code",
   "execution_count": 15,
   "metadata": {},
   "outputs": [
    {
     "data": {
      "text/html": [
       "<table>\n",
       "<caption>A data.frame: 6 × 2</caption>\n",
       "<thead>\n",
       "\t<tr><th scope=col>GrossBoxOffice</th><th scope=col>year</th></tr>\n",
       "\t<tr><th scope=col>&lt;dbl&gt;</th><th scope=col>&lt;int&gt;</th></tr>\n",
       "</thead>\n",
       "<tbody>\n",
       "\t<tr><td> 95.3</td><td>1976</td></tr>\n",
       "\t<tr><td> 86.4</td><td>1977</td></tr>\n",
       "\t<tr><td>119.4</td><td>1978</td></tr>\n",
       "\t<tr><td>124.4</td><td>1979</td></tr>\n",
       "\t<tr><td>154.2</td><td>1980</td></tr>\n",
       "\t<tr><td>174.3</td><td>1981</td></tr>\n",
       "</tbody>\n",
       "</table>\n"
      ],
      "text/latex": [
       "A data.frame: 6 × 2\n",
       "\\begin{tabular}{r|ll}\n",
       " GrossBoxOffice & year\\\\\n",
       " <dbl> & <int>\\\\\n",
       "\\hline\n",
       "\t  95.3 & 1976\\\\\n",
       "\t  86.4 & 1977\\\\\n",
       "\t 119.4 & 1978\\\\\n",
       "\t 124.4 & 1979\\\\\n",
       "\t 154.2 & 1980\\\\\n",
       "\t 174.3 & 1981\\\\\n",
       "\\end{tabular}\n"
      ],
      "text/markdown": [
       "\n",
       "A data.frame: 6 × 2\n",
       "\n",
       "| GrossBoxOffice &lt;dbl&gt; | year &lt;int&gt; |\n",
       "|---|---|\n",
       "|  95.3 | 1976 |\n",
       "|  86.4 | 1977 |\n",
       "| 119.4 | 1978 |\n",
       "| 124.4 | 1979 |\n",
       "| 154.2 | 1980 |\n",
       "| 174.3 | 1981 |\n",
       "\n"
      ],
      "text/plain": [
       "  GrossBoxOffice year\n",
       "1  95.3          1976\n",
       "2  86.4          1977\n",
       "3 119.4          1978\n",
       "4 124.4          1979\n",
       "5 154.2          1980\n",
       "6 174.3          1981"
      ]
     },
     "metadata": {},
     "output_type": "display_data"
    }
   ],
   "source": [
    "boxo <- read.table('boxoffice.txt',head=TRUE)\n",
    "head(boxo)"
   ]
  },
  {
   "cell_type": "code",
   "execution_count": 16,
   "metadata": {},
   "outputs": [
    {
     "data": {
      "text/html": [
       "<table>\n",
       "<caption>A data.frame: 6 × 3</caption>\n",
       "<thead>\n",
       "\t<tr><th scope=col>Production</th><th scope=col>CurrentWeek</th><th scope=col>LastWeek</th></tr>\n",
       "\t<tr><th scope=col>&lt;fct&gt;</th><th scope=col>&lt;int&gt;</th><th scope=col>&lt;int&gt;</th></tr>\n",
       "</thead>\n",
       "<tbody>\n",
       "\t<tr><td>42nd Street     </td><td>684966</td><td>695437</td></tr>\n",
       "\t<tr><td>Avenue Q        </td><td>502367</td><td>498969</td></tr>\n",
       "\t<tr><td>Beauty and Beast</td><td>594474</td><td>598576</td></tr>\n",
       "\t<tr><td>Bombay Dreams   </td><td>529298</td><td>528994</td></tr>\n",
       "\t<tr><td>Chicago         </td><td>570254</td><td>562964</td></tr>\n",
       "\t<tr><td>Dracula         </td><td>319959</td><td>282778</td></tr>\n",
       "</tbody>\n",
       "</table>\n"
      ],
      "text/latex": [
       "A data.frame: 6 × 3\n",
       "\\begin{tabular}{r|lll}\n",
       " Production & CurrentWeek & LastWeek\\\\\n",
       " <fct> & <int> & <int>\\\\\n",
       "\\hline\n",
       "\t 42nd Street      & 684966 & 695437\\\\\n",
       "\t Avenue Q         & 502367 & 498969\\\\\n",
       "\t Beauty and Beast & 594474 & 598576\\\\\n",
       "\t Bombay Dreams    & 529298 & 528994\\\\\n",
       "\t Chicago          & 570254 & 562964\\\\\n",
       "\t Dracula          & 319959 & 282778\\\\\n",
       "\\end{tabular}\n"
      ],
      "text/markdown": [
       "\n",
       "A data.frame: 6 × 3\n",
       "\n",
       "| Production &lt;fct&gt; | CurrentWeek &lt;int&gt; | LastWeek &lt;int&gt; |\n",
       "|---|---|---|\n",
       "| 42nd Street      | 684966 | 695437 |\n",
       "| Avenue Q         | 502367 | 498969 |\n",
       "| Beauty and Beast | 594474 | 598576 |\n",
       "| Bombay Dreams    | 529298 | 528994 |\n",
       "| Chicago          | 570254 | 562964 |\n",
       "| Dracula          | 319959 | 282778 |\n",
       "\n"
      ],
      "text/plain": [
       "  Production       CurrentWeek LastWeek\n",
       "1 42nd Street      684966      695437  \n",
       "2 Avenue Q         502367      498969  \n",
       "3 Beauty and Beast 594474      598576  \n",
       "4 Bombay Dreams    529298      528994  \n",
       "5 Chicago          570254      562964  \n",
       "6 Dracula          319959      282778  "
      ]
     },
     "metadata": {},
     "output_type": "display_data"
    },
    {
     "data": {
      "image/png": "[encoded data removed]",
      "text/plain": [
       "plot without title"
      ]
     },
     "metadata": {},
     "output_type": "display_data"
    }
   ],
   "source": [
    "boxo <- read.csv('playbill.csv')\n",
    "head(boxo)\n",
    "plot(CurrentWeek~LastWeek,data=boxo)"
   ]
  },
  {
   "cell_type": "code",
   "execution_count": 17,
   "metadata": {},
   "outputs": [],
   "source": [
    "model <- summary(lm(CurrentWeek~LastWeek,data=boxo))"
   ]
  },
  {
   "cell_type": "code",
   "execution_count": 28,
   "metadata": {},
   "outputs": [
    {
     "data": {
      "text/html": [
       "<table>\n",
       "<caption>A anova: 2 × 5</caption>\n",
       "<thead>\n",
       "\t<tr><th></th><th scope=col>Df</th><th scope=col>Sum Sq</th><th scope=col>Mean Sq</th><th scope=col>F value</th><th scope=col>Pr(&gt;F)</th></tr>\n",
       "\t<tr><th></th><th scope=col>&lt;int&gt;</th><th scope=col>&lt;dbl&gt;</th><th scope=col>&lt;dbl&gt;</th><th scope=col>&lt;dbl&gt;</th><th scope=col>&lt;dbl&gt;</th></tr>\n",
       "</thead>\n",
       "<tbody>\n",
       "\t<tr><th scope=row>LastWeek</th><td> 1</td><td>1.502585e+12</td><td>1.502585e+12</td><td>4633.716</td><td>3.86645e-21</td></tr>\n",
       "\t<tr><th scope=row>Residuals</th><td>16</td><td>5.188354e+09</td><td>3.242721e+08</td><td>      NA</td><td>         NA</td></tr>\n",
       "</tbody>\n",
       "</table>\n"
      ],
      "text/latex": [
       "A anova: 2 × 5\n",
       "\\begin{tabular}{r|lllll}\n",
       "  & Df & Sum Sq & Mean Sq & F value & Pr(>F)\\\\\n",
       "  & <int> & <dbl> & <dbl> & <dbl> & <dbl>\\\\\n",
       "\\hline\n",
       "\tLastWeek &  1 & 1.502585e+12 & 1.502585e+12 & 4633.716 & 3.86645e-21\\\\\n",
       "\tResiduals & 16 & 5.188354e+09 & 3.242721e+08 &       NA &          NA\\\\\n",
       "\\end{tabular}\n"
      ],
      "text/markdown": [
       "\n",
       "A anova: 2 × 5\n",
       "\n",
       "| <!--/--> | Df &lt;int&gt; | Sum Sq &lt;dbl&gt; | Mean Sq &lt;dbl&gt; | F value &lt;dbl&gt; | Pr(&gt;F) &lt;dbl&gt; |\n",
       "|---|---|---|---|---|---|\n",
       "| LastWeek |  1 | 1.502585e+12 | 1.502585e+12 | 4633.716 | 3.86645e-21 |\n",
       "| Residuals | 16 | 5.188354e+09 | 3.242721e+08 |       NA |          NA |\n",
       "\n"
      ],
      "text/plain": [
       "          Df Sum Sq       Mean Sq      F value  Pr(>F)     \n",
       "LastWeek   1 1.502585e+12 1.502585e+12 4633.716 3.86645e-21\n",
       "Residuals 16 5.188354e+09 3.242721e+08       NA          NA"
      ]
     },
     "metadata": {},
     "output_type": "display_data"
    }
   ],
   "source": [
    "anova(lm(CurrentWeek~LastWeek,data=boxo))"
   ]
  },
  {
   "cell_type": "code",
   "execution_count": 18,
   "metadata": {},
   "outputs": [
    {
     "data": {
      "text/plain": [
       "\n",
       "Call:\n",
       "lm(formula = CurrentWeek ~ LastWeek, data = boxo)\n",
       "\n",
       "Residuals:\n",
       "   Min     1Q Median     3Q    Max \n",
       "-36926  -7525  -2581   7782  35443 \n",
       "\n",
       "Coefficients:\n",
       "             Estimate Std. Error t value Pr(>|t|)    \n",
       "(Intercept) 6.805e+03  9.929e+03   0.685    0.503    \n",
       "LastWeek    9.821e-01  1.443e-02  68.071   <2e-16 ***\n",
       "---\n",
       "Signif. codes:  0 ‘***’ 0.001 ‘**’ 0.01 ‘*’ 0.05 ‘.’ 0.1 ‘ ’ 1\n",
       "\n",
       "Residual standard error: 18010 on 16 degrees of freedom\n",
       "Multiple R-squared:  0.9966,\tAdjusted R-squared:  0.9963 \n",
       "F-statistic:  4634 on 1 and 16 DF,  p-value: < 2.2e-16\n"
      ]
     },
     "metadata": {},
     "output_type": "display_data"
    }
   ],
   "source": [
    "model"
   ]
  },
  {
   "cell_type": "code",
   "execution_count": 19,
   "metadata": {},
   "outputs": [],
   "source": [
    "n <- nrow(boxo)\n",
    "df <- n-2\n",
    "tvalue <- qt(0.975,df=df)\n",
    "lb <- model$coefficients[2,1]-tvalue*model$coefficients[2,2]\n",
    "ub <- model$coefficients[2,1]+tvalue*model$coefficients[2,2]"
   ]
  },
  {
   "cell_type": "code",
   "execution_count": 25,
   "metadata": {},
   "outputs": [
    {
     "data": {
      "text/html": [
       "<table>\n",
       "<caption>A matrix: 2 × 5 of type dbl</caption>\n",
       "<thead>\n",
       "\t<tr><th></th><th scope=col>Estimate</th><th scope=col>CI lower</th><th scope=col>CI upper</th><th scope=col>Std. Error</th><th scope=col>p-value</th></tr>\n",
       "</thead>\n",
       "<tbody>\n",
       "\t<tr><th scope=row>(Intercept)</th><td>6804.8860355</td><td>-1.424433e+04</td><td>27854.099443</td><td>9.929318e+03</td><td>5.029432e-01</td></tr>\n",
       "\t<tr><th scope=row>LastWeek</th><td>   0.9820815</td><td> 9.514971e-01</td><td>    1.012666</td><td>1.442723e-02</td><td>3.866450e-21</td></tr>\n",
       "</tbody>\n",
       "</table>\n"
      ],
      "text/latex": [
       "A matrix: 2 × 5 of type dbl\n",
       "\\begin{tabular}{r|lllll}\n",
       "  & Estimate & CI lower & CI upper & Std. Error & p-value\\\\\n",
       "\\hline\n",
       "\t(Intercept) & 6804.8860355 & -1.424433e+04 & 27854.099443 & 9.929318e+03 & 5.029432e-01\\\\\n",
       "\tLastWeek &    0.9820815 &  9.514971e-01 &     1.012666 & 1.442723e-02 & 3.866450e-21\\\\\n",
       "\\end{tabular}\n"
      ],
      "text/markdown": [
       "\n",
       "A matrix: 2 × 5 of type dbl\n",
       "\n",
       "| <!--/--> | Estimate | CI lower | CI upper | Std. Error | p-value |\n",
       "|---|---|---|---|---|---|\n",
       "| (Intercept) | 6804.8860355 | -1.424433e+04 | 27854.099443 | 9.929318e+03 | 5.029432e-01 |\n",
       "| LastWeek |    0.9820815 |  9.514971e-01 |     1.012666 | 1.442723e-02 | 3.866450e-21 |\n",
       "\n"
      ],
      "text/plain": [
       "            Estimate     CI lower      CI upper     Std. Error   p-value     \n",
       "(Intercept) 6804.8860355 -1.424433e+04 27854.099443 9.929318e+03 5.029432e-01\n",
       "LastWeek       0.9820815  9.514971e-01     1.012666 1.442723e-02 3.866450e-21"
      ]
     },
     "metadata": {},
     "output_type": "display_data"
    }
   ],
   "source": [
    "library(\"gmodels\")\n",
    "?ci\n",
    "ci(lm(CurrentWeek~LastWeek,data=boxo))"
   ]
  },
  {
   "cell_type": "code",
   "execution_count": 21,
   "metadata": {},
   "outputs": [
    {
     "data": {
      "text/html": [
       "0.95149712709205"
      ],
      "text/latex": [
       "0.95149712709205"
      ],
      "text/markdown": [
       "0.95149712709205"
      ],
      "text/plain": [
       "[1] 0.9514971"
      ]
     },
     "metadata": {},
     "output_type": "display_data"
    }
   ],
   "source": [
    "lb"
   ]
  },
  {
   "cell_type": "code",
   "execution_count": 22,
   "metadata": {},
   "outputs": [
    {
     "data": {
      "text/html": [
       "1.01266583104888"
      ],
      "text/latex": [
       "1.01266583104888"
      ],
      "text/markdown": [
       "1.01266583104888"
      ],
      "text/plain": [
       "[1] 1.012666"
      ]
     },
     "metadata": {},
     "output_type": "display_data"
    }
   ],
   "source": [
    "ub"
   ]
  },
  {
   "cell_type": "code",
   "execution_count": 23,
   "metadata": {},
   "outputs": [
    {
     "data": {
      "text/html": [
       "0.75178072985789"
      ],
      "text/latex": [
       "0.75178072985789"
      ],
      "text/markdown": [
       "0.75178072985789"
      ],
      "text/plain": [
       "[1] 0.7517807"
      ]
     },
     "metadata": {},
     "output_type": "display_data"
    }
   ],
   "source": [
    "tstat <- (model$coefficients[1,1]-10000)/model$coefficients[1,2]\n",
    "pt(tstat,df=df)*2"
   ]
  },
  {
   "cell_type": "code",
   "execution_count": 26,
   "metadata": {},
   "outputs": [],
   "source": [
    "?pt"
   ]
  },
  {
   "cell_type": "code",
   "execution_count": null,
   "metadata": {},
   "outputs": [],
   "source": []
  }
 ],
 "metadata": {
  "kernelspec": {
   "display_name": "R",
   "language": "R",
   "name": "ir"
  },
  "language_info": {
   "codemirror_mode": "r",
   "file_extension": ".r",
   "mimetype": "text/x-r-source",
   "name": "R",
   "pygments_lexer": "r",
   "version": "3.4.4"
  }
 },
 "nbformat": 4,
 "nbformat_minor": 2
}
