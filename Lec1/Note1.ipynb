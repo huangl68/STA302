{
 "cells": [
  {
   "cell_type": "markdown",
   "metadata": {},
   "source": [
    "# p value\n",
    "if p value = 0.1\n",
    "- Under the assumption that  group has no effect, the observed difference is larger or equal to 10% of all of the possible difference.\n",
    "- Under the assumption that group has no effect, the probability of sampling a data set with difference between groups as large as ours is 10%."
   ]
  },
  {
   "cell_type": "markdown",
   "metadata": {},
   "source": [
    "# Statistical significance\n",
    "We think something happens 10% of the time is exceptional, then we fix significance level at 10%, which is $\\alpha$.\n",
    " - Statistical significance: Given the null hypothesis, the result is unlikely to happen, when p < $\\alpha$."
   ]
  },
  {
   "cell_type": "code",
   "execution_count": null,
   "metadata": {},
   "outputs": [],
   "source": []
  }
 ],
 "metadata": {
  "kernelspec": {
   "display_name": "Python 3",
   "language": "python",
   "name": "python3"
  },
  "language_info": {
   "codemirror_mode": {
    "name": "ipython",
    "version": 3
   },
   "file_extension": ".py",
   "mimetype": "text/x-python",
   "name": "python",
   "nbconvert_exporter": "python",
   "pygments_lexer": "ipython3",
   "version": "3.7.0"
  }
 },
 "nbformat": 4,
 "nbformat_minor": 2
}
